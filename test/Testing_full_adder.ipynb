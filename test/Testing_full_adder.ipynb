{
  "nbformat": 4,
  "nbformat_minor": 0,
  "metadata": {
    "colab": {
      "provenance": []
    },
    "kernelspec": {
      "name": "python3",
      "display_name": "Python 3"
    },
    "language_info": {
      "name": "python"
    }
  },
  "cells": [
    {
      "cell_type": "code",
      "execution_count": null,
      "metadata": {
        "colab": {
          "base_uri": "https://localhost:8080/",
          "height": 1000
        },
        "id": "p75ndSpSbQDv",
        "outputId": "d3b8f31f-16d7-4e68-a5b9-b5e3eacf7a4f"
      },
      "outputs": [
        {
          "output_type": "stream",
          "name": "stdout",
          "text": [
            "Requirement already satisfied: pytket in /usr/local/lib/python3.10/dist-packages (1.21.0)\n",
            "Requirement already satisfied: sympy~=1.6 in /usr/local/lib/python3.10/dist-packages (from pytket) (1.12)\n",
            "Requirement already satisfied: numpy<2.0,>=1.21.4 in /usr/local/lib/python3.10/dist-packages (from pytket) (1.23.5)\n",
            "Requirement already satisfied: lark-parser~=0.7 in /usr/local/lib/python3.10/dist-packages (from pytket) (0.12.0)\n",
            "Requirement already satisfied: scipy<2.0,>=1.7.2 in /usr/local/lib/python3.10/dist-packages (from pytket) (1.11.3)\n",
            "Requirement already satisfied: networkx>=2.8.8 in /usr/local/lib/python3.10/dist-packages (from pytket) (3.2)\n",
            "Requirement already satisfied: graphviz~=0.14 in /usr/local/lib/python3.10/dist-packages (from pytket) (0.20.1)\n",
            "Requirement already satisfied: jinja2~=3.0 in /usr/local/lib/python3.10/dist-packages (from pytket) (3.1.2)\n",
            "Requirement already satisfied: types-pkg-resources in /usr/local/lib/python3.10/dist-packages (from pytket) (0.1.3)\n",
            "Requirement already satisfied: typing-extensions~=4.2 in /usr/local/lib/python3.10/dist-packages (from pytket) (4.5.0)\n",
            "Requirement already satisfied: qwasm~=1.0 in /usr/local/lib/python3.10/dist-packages (from pytket) (1.0.1)\n",
            "Requirement already satisfied: MarkupSafe>=2.0 in /usr/local/lib/python3.10/dist-packages (from jinja2~=3.0->pytket) (2.1.3)\n",
            "Requirement already satisfied: setuptools in /usr/local/lib/python3.10/dist-packages (from qwasm~=1.0->pytket) (67.7.2)\n",
            "Requirement already satisfied: mpmath>=0.19 in /usr/local/lib/python3.10/dist-packages (from sympy~=1.6->pytket) (1.3.0)\n",
            "Requirement already satisfied: pytket-qiskit in /usr/local/lib/python3.10/dist-packages (0.45.0)\n",
            "Requirement already satisfied: pytket~=1.21 in /usr/local/lib/python3.10/dist-packages (from pytket-qiskit) (1.21.0)\n",
            "Requirement already satisfied: qiskit~=0.44.0 in /usr/local/lib/python3.10/dist-packages (from pytket-qiskit) (0.44.3)\n",
            "Requirement already satisfied: qiskit-ibm-runtime~=0.12.0 in /usr/local/lib/python3.10/dist-packages (from pytket-qiskit) (0.12.2)\n",
            "Requirement already satisfied: qiskit-aer~=0.12.2 in /usr/local/lib/python3.10/dist-packages (from pytket-qiskit) (0.12.2)\n",
            "Requirement already satisfied: qiskit-ibm-provider~=0.7.0 in /usr/local/lib/python3.10/dist-packages (from pytket-qiskit) (0.7.2)\n",
            "Requirement already satisfied: numpy in /usr/local/lib/python3.10/dist-packages (from pytket-qiskit) (1.23.5)\n",
            "Requirement already satisfied: sympy~=1.6 in /usr/local/lib/python3.10/dist-packages (from pytket~=1.21->pytket-qiskit) (1.12)\n",
            "Requirement already satisfied: lark-parser~=0.7 in /usr/local/lib/python3.10/dist-packages (from pytket~=1.21->pytket-qiskit) (0.12.0)\n",
            "Requirement already satisfied: scipy<2.0,>=1.7.2 in /usr/local/lib/python3.10/dist-packages (from pytket~=1.21->pytket-qiskit) (1.11.3)\n",
            "Requirement already satisfied: networkx>=2.8.8 in /usr/local/lib/python3.10/dist-packages (from pytket~=1.21->pytket-qiskit) (3.2)\n",
            "Requirement already satisfied: graphviz~=0.14 in /usr/local/lib/python3.10/dist-packages (from pytket~=1.21->pytket-qiskit) (0.20.1)\n",
            "Requirement already satisfied: jinja2~=3.0 in /usr/local/lib/python3.10/dist-packages (from pytket~=1.21->pytket-qiskit) (3.1.2)\n",
            "Requirement already satisfied: types-pkg-resources in /usr/local/lib/python3.10/dist-packages (from pytket~=1.21->pytket-qiskit) (0.1.3)\n",
            "Requirement already satisfied: typing-extensions~=4.2 in /usr/local/lib/python3.10/dist-packages (from pytket~=1.21->pytket-qiskit) (4.5.0)\n",
            "Requirement already satisfied: qwasm~=1.0 in /usr/local/lib/python3.10/dist-packages (from pytket~=1.21->pytket-qiskit) (1.0.1)\n",
            "Requirement already satisfied: qiskit-terra==0.25.3 in /usr/local/lib/python3.10/dist-packages (from qiskit~=0.44.0->pytket-qiskit) (0.25.3)\n",
            "Requirement already satisfied: rustworkx>=0.13.0 in /usr/local/lib/python3.10/dist-packages (from qiskit-terra==0.25.3->qiskit~=0.44.0->pytket-qiskit) (0.13.2)\n",
            "Requirement already satisfied: ply>=3.10 in /usr/local/lib/python3.10/dist-packages (from qiskit-terra==0.25.3->qiskit~=0.44.0->pytket-qiskit) (3.11)\n",
            "Requirement already satisfied: psutil>=5 in /usr/local/lib/python3.10/dist-packages (from qiskit-terra==0.25.3->qiskit~=0.44.0->pytket-qiskit) (5.9.5)\n",
            "Requirement already satisfied: dill>=0.3 in /usr/local/lib/python3.10/dist-packages (from qiskit-terra==0.25.3->qiskit~=0.44.0->pytket-qiskit) (0.3.7)\n",
            "Requirement already satisfied: python-dateutil>=2.8.0 in /usr/local/lib/python3.10/dist-packages (from qiskit-terra==0.25.3->qiskit~=0.44.0->pytket-qiskit) (2.8.2)\n",
            "Requirement already satisfied: stevedore>=3.0.0 in /usr/local/lib/python3.10/dist-packages (from qiskit-terra==0.25.3->qiskit~=0.44.0->pytket-qiskit) (5.1.0)\n",
            "Requirement already satisfied: symengine<0.10,>=0.9 in /usr/local/lib/python3.10/dist-packages (from qiskit-terra==0.25.3->qiskit~=0.44.0->pytket-qiskit) (0.9.2)\n",
            "Requirement already satisfied: requests>=2.19 in /usr/local/lib/python3.10/dist-packages (from qiskit-ibm-provider~=0.7.0->pytket-qiskit) (2.31.0)\n",
            "Requirement already satisfied: requests-ntlm>=1.1.0 in /usr/local/lib/python3.10/dist-packages (from qiskit-ibm-provider~=0.7.0->pytket-qiskit) (1.2.0)\n",
            "Requirement already satisfied: urllib3>=1.21.1 in /usr/local/lib/python3.10/dist-packages (from qiskit-ibm-provider~=0.7.0->pytket-qiskit) (2.0.7)\n",
            "Requirement already satisfied: websocket-client>=1.5.1 in /usr/local/lib/python3.10/dist-packages (from qiskit-ibm-provider~=0.7.0->pytket-qiskit) (1.6.4)\n",
            "Requirement already satisfied: websockets>=10.0 in /usr/local/lib/python3.10/dist-packages (from qiskit-ibm-provider~=0.7.0->pytket-qiskit) (12.0)\n",
            "Requirement already satisfied: ibm-platform-services>=0.22.6 in /usr/local/lib/python3.10/dist-packages (from qiskit-ibm-runtime~=0.12.0->pytket-qiskit) (0.45.1)\n",
            "Requirement already satisfied: ibm-cloud-sdk-core<4.0.0,>=3.17.0 in /usr/local/lib/python3.10/dist-packages (from ibm-platform-services>=0.22.6->qiskit-ibm-runtime~=0.12.0->pytket-qiskit) (3.17.2)\n",
            "Requirement already satisfied: MarkupSafe>=2.0 in /usr/local/lib/python3.10/dist-packages (from jinja2~=3.0->pytket~=1.21->pytket-qiskit) (2.1.3)\n",
            "Requirement already satisfied: six>=1.5 in /usr/local/lib/python3.10/dist-packages (from python-dateutil>=2.8.0->qiskit-terra==0.25.3->qiskit~=0.44.0->pytket-qiskit) (1.16.0)\n",
            "Requirement already satisfied: setuptools in /usr/local/lib/python3.10/dist-packages (from qwasm~=1.0->pytket~=1.21->pytket-qiskit) (67.7.2)\n",
            "Requirement already satisfied: charset-normalizer<4,>=2 in /usr/local/lib/python3.10/dist-packages (from requests>=2.19->qiskit-ibm-provider~=0.7.0->pytket-qiskit) (3.3.1)\n",
            "Requirement already satisfied: idna<4,>=2.5 in /usr/local/lib/python3.10/dist-packages (from requests>=2.19->qiskit-ibm-provider~=0.7.0->pytket-qiskit) (3.4)\n",
            "Requirement already satisfied: certifi>=2017.4.17 in /usr/local/lib/python3.10/dist-packages (from requests>=2.19->qiskit-ibm-provider~=0.7.0->pytket-qiskit) (2023.7.22)\n",
            "Requirement already satisfied: cryptography>=1.3 in /usr/local/lib/python3.10/dist-packages (from requests-ntlm>=1.1.0->qiskit-ibm-provider~=0.7.0->pytket-qiskit) (41.0.5)\n",
            "Requirement already satisfied: pyspnego>=0.1.6 in /usr/local/lib/python3.10/dist-packages (from requests-ntlm>=1.1.0->qiskit-ibm-provider~=0.7.0->pytket-qiskit) (0.10.2)\n",
            "Requirement already satisfied: mpmath>=0.19 in /usr/local/lib/python3.10/dist-packages (from sympy~=1.6->pytket~=1.21->pytket-qiskit) (1.3.0)\n",
            "Requirement already satisfied: cffi>=1.12 in /usr/local/lib/python3.10/dist-packages (from cryptography>=1.3->requests-ntlm>=1.1.0->qiskit-ibm-provider~=0.7.0->pytket-qiskit) (1.16.0)\n",
            "Collecting urllib3>=1.21.1 (from qiskit-ibm-provider~=0.7.0->pytket-qiskit)\n",
            "  Using cached urllib3-1.26.18-py2.py3-none-any.whl (143 kB)\n",
            "Requirement already satisfied: PyJWT<3.0.0,>=2.8.0 in /usr/local/lib/python3.10/dist-packages (from ibm-cloud-sdk-core<4.0.0,>=3.17.0->ibm-platform-services>=0.22.6->qiskit-ibm-runtime~=0.12.0->pytket-qiskit) (2.8.0)\n",
            "Requirement already satisfied: pbr!=2.1.0,>=2.0.0 in /usr/local/lib/python3.10/dist-packages (from stevedore>=3.0.0->qiskit-terra==0.25.3->qiskit~=0.44.0->pytket-qiskit) (5.11.1)\n",
            "Requirement already satisfied: pycparser in /usr/local/lib/python3.10/dist-packages (from cffi>=1.12->cryptography>=1.3->requests-ntlm>=1.1.0->qiskit-ibm-provider~=0.7.0->pytket-qiskit) (2.21)\n",
            "Installing collected packages: urllib3\n",
            "  Attempting uninstall: urllib3\n",
            "    Found existing installation: urllib3 2.0.7\n",
            "    Uninstalling urllib3-2.0.7:\n",
            "      Successfully uninstalled urllib3-2.0.7\n",
            "\u001b[31mERROR: pip's dependency resolver does not currently take into account all the packages that are installed. This behaviour is the source of the following dependency conflicts.\n",
            "types-requests 2.31.0.10 requires urllib3>=2, but you have urllib3 1.26.18 which is incompatible.\u001b[0m\u001b[31m\n",
            "\u001b[0mSuccessfully installed urllib3-1.26.18\n"
          ]
        },
        {
          "output_type": "display_data",
          "data": {
            "application/vnd.colab-display-data+json": {
              "pip_warning": {
                "packages": [
                  "urllib3"
                ]
              }
            }
          },
          "metadata": {}
        },
        {
          "output_type": "stream",
          "name": "stdout",
          "text": [
            "Requirement already satisfied: pytket-quantinuum in /usr/local/lib/python3.10/dist-packages (0.25.0)\n",
            "Requirement already satisfied: pytket~=1.21 in /usr/local/lib/python3.10/dist-packages (from pytket-quantinuum) (1.21.0)\n",
            "Requirement already satisfied: requests>=2.2 in /usr/local/lib/python3.10/dist-packages (from pytket-quantinuum) (2.31.0)\n",
            "Requirement already satisfied: types-requests in /usr/local/lib/python3.10/dist-packages (from pytket-quantinuum) (2.31.0.10)\n",
            "Requirement already satisfied: websockets>=7.0 in /usr/local/lib/python3.10/dist-packages (from pytket-quantinuum) (12.0)\n",
            "Requirement already satisfied: nest-asyncio>=1.2 in /usr/local/lib/python3.10/dist-packages (from pytket-quantinuum) (1.5.8)\n",
            "Requirement already satisfied: pyjwt~=2.4 in /usr/local/lib/python3.10/dist-packages (from pytket-quantinuum) (2.8.0)\n",
            "Requirement already satisfied: msal~=1.18 in /usr/local/lib/python3.10/dist-packages (from pytket-quantinuum) (1.24.1)\n",
            "Requirement already satisfied: cryptography<44,>=0.6 in /usr/local/lib/python3.10/dist-packages (from msal~=1.18->pytket-quantinuum) (41.0.5)\n",
            "Requirement already satisfied: sympy~=1.6 in /usr/local/lib/python3.10/dist-packages (from pytket~=1.21->pytket-quantinuum) (1.12)\n",
            "Requirement already satisfied: numpy<2.0,>=1.21.4 in /usr/local/lib/python3.10/dist-packages (from pytket~=1.21->pytket-quantinuum) (1.23.5)\n",
            "Requirement already satisfied: lark-parser~=0.7 in /usr/local/lib/python3.10/dist-packages (from pytket~=1.21->pytket-quantinuum) (0.12.0)\n",
            "Requirement already satisfied: scipy<2.0,>=1.7.2 in /usr/local/lib/python3.10/dist-packages (from pytket~=1.21->pytket-quantinuum) (1.11.3)\n",
            "Requirement already satisfied: networkx>=2.8.8 in /usr/local/lib/python3.10/dist-packages (from pytket~=1.21->pytket-quantinuum) (3.2)\n",
            "Requirement already satisfied: graphviz~=0.14 in /usr/local/lib/python3.10/dist-packages (from pytket~=1.21->pytket-quantinuum) (0.20.1)\n",
            "Requirement already satisfied: jinja2~=3.0 in /usr/local/lib/python3.10/dist-packages (from pytket~=1.21->pytket-quantinuum) (3.1.2)\n",
            "Requirement already satisfied: types-pkg-resources in /usr/local/lib/python3.10/dist-packages (from pytket~=1.21->pytket-quantinuum) (0.1.3)\n",
            "Requirement already satisfied: typing-extensions~=4.2 in /usr/local/lib/python3.10/dist-packages (from pytket~=1.21->pytket-quantinuum) (4.5.0)\n",
            "Requirement already satisfied: qwasm~=1.0 in /usr/local/lib/python3.10/dist-packages (from pytket~=1.21->pytket-quantinuum) (1.0.1)\n",
            "Requirement already satisfied: charset-normalizer<4,>=2 in /usr/local/lib/python3.10/dist-packages (from requests>=2.2->pytket-quantinuum) (3.3.1)\n",
            "Requirement already satisfied: idna<4,>=2.5 in /usr/local/lib/python3.10/dist-packages (from requests>=2.2->pytket-quantinuum) (3.4)\n",
            "Requirement already satisfied: urllib3<3,>=1.21.1 in /usr/local/lib/python3.10/dist-packages (from requests>=2.2->pytket-quantinuum) (1.26.18)\n",
            "Requirement already satisfied: certifi>=2017.4.17 in /usr/local/lib/python3.10/dist-packages (from requests>=2.2->pytket-quantinuum) (2023.7.22)\n",
            "Collecting urllib3<3,>=1.21.1 (from requests>=2.2->pytket-quantinuum)\n",
            "  Using cached urllib3-2.0.7-py3-none-any.whl (124 kB)\n",
            "Requirement already satisfied: cffi>=1.12 in /usr/local/lib/python3.10/dist-packages (from cryptography<44,>=0.6->msal~=1.18->pytket-quantinuum) (1.16.0)\n",
            "Requirement already satisfied: MarkupSafe>=2.0 in /usr/local/lib/python3.10/dist-packages (from jinja2~=3.0->pytket~=1.21->pytket-quantinuum) (2.1.3)\n",
            "Requirement already satisfied: setuptools in /usr/local/lib/python3.10/dist-packages (from qwasm~=1.0->pytket~=1.21->pytket-quantinuum) (67.7.2)\n",
            "Requirement already satisfied: mpmath>=0.19 in /usr/local/lib/python3.10/dist-packages (from sympy~=1.6->pytket~=1.21->pytket-quantinuum) (1.3.0)\n",
            "Requirement already satisfied: pycparser in /usr/local/lib/python3.10/dist-packages (from cffi>=1.12->cryptography<44,>=0.6->msal~=1.18->pytket-quantinuum) (2.21)\n",
            "Installing collected packages: urllib3\n",
            "  Attempting uninstall: urllib3\n",
            "    Found existing installation: urllib3 1.26.18\n",
            "    Uninstalling urllib3-1.26.18:\n",
            "      Successfully uninstalled urllib3-1.26.18\n",
            "\u001b[31mERROR: pip's dependency resolver does not currently take into account all the packages that are installed. This behaviour is the source of the following dependency conflicts.\n",
            "ibm-cloud-sdk-core 3.17.2 requires urllib3<2.0.0,>=1.26.0, but you have urllib3 2.0.7 which is incompatible.\u001b[0m\u001b[31m\n",
            "\u001b[0mSuccessfully installed urllib3-2.0.7\n",
            "Requirement already satisfied: pylatexenc in /usr/local/lib/python3.10/dist-packages (2.10)\n",
            "Requirement already satisfied: qiskit_algorithms in /usr/local/lib/python3.10/dist-packages (0.2.1)\n",
            "Requirement already satisfied: qiskit-terra>=0.24 in /usr/local/lib/python3.10/dist-packages (from qiskit_algorithms) (0.25.3)\n",
            "Requirement already satisfied: scipy>=1.4 in /usr/local/lib/python3.10/dist-packages (from qiskit_algorithms) (1.11.3)\n",
            "Requirement already satisfied: numpy>=1.17 in /usr/local/lib/python3.10/dist-packages (from qiskit_algorithms) (1.23.5)\n",
            "Requirement already satisfied: rustworkx>=0.13.0 in /usr/local/lib/python3.10/dist-packages (from qiskit-terra>=0.24->qiskit_algorithms) (0.13.2)\n",
            "Requirement already satisfied: ply>=3.10 in /usr/local/lib/python3.10/dist-packages (from qiskit-terra>=0.24->qiskit_algorithms) (3.11)\n",
            "Requirement already satisfied: psutil>=5 in /usr/local/lib/python3.10/dist-packages (from qiskit-terra>=0.24->qiskit_algorithms) (5.9.5)\n",
            "Requirement already satisfied: sympy>=1.3 in /usr/local/lib/python3.10/dist-packages (from qiskit-terra>=0.24->qiskit_algorithms) (1.12)\n",
            "Requirement already satisfied: dill>=0.3 in /usr/local/lib/python3.10/dist-packages (from qiskit-terra>=0.24->qiskit_algorithms) (0.3.7)\n",
            "Requirement already satisfied: python-dateutil>=2.8.0 in /usr/local/lib/python3.10/dist-packages (from qiskit-terra>=0.24->qiskit_algorithms) (2.8.2)\n",
            "Requirement already satisfied: stevedore>=3.0.0 in /usr/local/lib/python3.10/dist-packages (from qiskit-terra>=0.24->qiskit_algorithms) (5.1.0)\n",
            "Requirement already satisfied: symengine<0.10,>=0.9 in /usr/local/lib/python3.10/dist-packages (from qiskit-terra>=0.24->qiskit_algorithms) (0.9.2)\n",
            "Requirement already satisfied: typing-extensions in /usr/local/lib/python3.10/dist-packages (from qiskit-terra>=0.24->qiskit_algorithms) (4.5.0)\n",
            "Requirement already satisfied: six>=1.5 in /usr/local/lib/python3.10/dist-packages (from python-dateutil>=2.8.0->qiskit-terra>=0.24->qiskit_algorithms) (1.16.0)\n",
            "Requirement already satisfied: pbr!=2.1.0,>=2.0.0 in /usr/local/lib/python3.10/dist-packages (from stevedore>=3.0.0->qiskit-terra>=0.24->qiskit_algorithms) (5.11.1)\n",
            "Requirement already satisfied: mpmath>=0.19 in /usr/local/lib/python3.10/dist-packages (from sympy>=1.3->qiskit-terra>=0.24->qiskit_algorithms) (1.3.0)\n"
          ]
        }
      ],
      "source": [
        "!pip install pytket\n",
        "!pip install pytket-qiskit\n",
        "!pip install pytket-quantinuum\n",
        "!pip install pylatexenc\n",
        "!pip install qiskit_algorithms\n",
        "from qiskit import *\n",
        "from qiskit_algorithms import AmplificationProblem\n",
        "from qiskit_algorithms import Grover\n",
        "from qiskit.primitives import Sampler\n",
        "from qiskit.tools.visualization import plot_histogram\n",
        "%matplotlib inline"
      ]
    },
    {
      "cell_type": "markdown",
      "source": [
        "### **Circuit block**"
      ],
      "metadata": {
        "id": "1TY4nPfDfPuc"
      }
    },
    {
      "cell_type": "code",
      "source": [
        "def binary_addition_circuit_for_3_qubits(qc):\n",
        "  qc.cx(0,3)\n",
        "  qc.cx(1,3)\n",
        "  qc.cx(2,3)\n",
        "  qc.ccx(0,1,4)\n",
        "  qc.ccx(0,2,4)\n",
        "  qc.ccx(1,2,4)\n",
        "  return qc\n",
        "\n",
        "def introduce_error_for_3_qubit_circuit(qc):\n",
        "  return qc.mct([0,1,2], [3])\n",
        "\n",
        "def initialize_circuit(qc):\n",
        "  qc.initialize('0000000', qc.qubits)\n",
        "  qc.h([0])\n",
        "  qc.h([1])\n",
        "  qc.h([2])\n",
        "  qc.barrier()\n",
        "  return qc\n",
        "\n",
        "\n",
        "def plot_circuit(qc):\n",
        "  return qc.draw(output='mpl')"
      ],
      "metadata": {
        "id": "vO1nntD2lB6V"
      },
      "execution_count": null,
      "outputs": []
    },
    {
      "cell_type": "code",
      "source": [
        "circuit = QuantumCircuit(7,4)\n",
        "qc = initialize_circuit(circuit)\n",
        "\n",
        "qc.cx(0,3)\n",
        "qc.cx(1,3)\n",
        "qc.cx(2,3)\n",
        "qc.ccx(0,1,4)\n",
        "qc.ccx(0,2,4)\n",
        "qc.ccx(1,2,4)\n",
        "qc.mct([0,1,2], [3])\n",
        "qc.measure([3,4],[0,1])\n",
        "qc.barrier()\n",
        "\n",
        "qc.cx(0,5)\n",
        "qc.cx(1,5)\n",
        "qc.cx(2,5)\n",
        "qc.ccx(0,1,6)\n",
        "qc.ccx(0,2,6)\n",
        "qc.ccx(1,2,6)\n",
        "qc.measure([5,6], [2,3])\n",
        "\n",
        "plot_circuit(qc)"
      ],
      "metadata": {
        "colab": {
          "base_uri": "https://localhost:8080/",
          "height": 558
        },
        "id": "HpYyNIjnabf8",
        "outputId": "1272627a-6ff6-46f5-873d-d12d60cb0436"
      },
      "execution_count": null,
      "outputs": [
        {
          "output_type": "execute_result",
          "data": {
            "text/plain": [
              "<Figure size 1876.11x702.333 with 1 Axes>"
            ],
            "image/png": "[encoded data removed]"
          },
          "metadata": {},
          "execution_count": 39
        }
      ]
    },
    {
      "cell_type": "code",
      "source": [
        "simulator = Aer.get_backend('qasm_simulator')\n",
        "result = execute(qc, backend=simulator, shots=1024).result()\n",
        "result_obj = result.get_counts(qc)\n",
        "print(result_obj)\n",
        "keys = list(result_obj.keys())\n",
        "\n",
        "mismatch_list = []\n",
        "for key in keys:\n",
        "  if(key[:2] != key[2:]):\n",
        "    mismatch_list.append(key)\n",
        "\n",
        "print(mismatch_list)"
      ],
      "metadata": {
        "colab": {
          "base_uri": "https://localhost:8080/"
        },
        "id": "Zc49mr01bdf9",
        "outputId": "61d483d9-c9d9-4659-ce8d-5776e6211578"
      },
      "execution_count": null,
      "outputs": [
        {
          "output_type": "stream",
          "name": "stdout",
          "text": [
            "{'1110': 116, '0101': 394, '1010': 388, '0000': 126}\n",
            "['1110']\n"
          ]
        }
      ]
    },
    {
      "cell_type": "markdown",
      "source": [
        "### **Oracle block**"
      ],
      "metadata": {
        "id": "lNwDx3QfTn3S"
      }
    },
    {
      "cell_type": "code",
      "source": [
        "def find_marked_state():\n",
        "  qcirc1 = QuantumCircuit(5,2)\n",
        "  qcirc1.initialize('00000', qcirc1.qubits)\n",
        "  qcirc2 = QuantumCircuit(5,2)\n",
        "  qcirc2.initialize('00000', qcirc2.qubits)\n",
        "  qcirc3 = QuantumCircuit(5,2)\n",
        "  qcirc3.initialize('00000', qcirc3.qubits)\n",
        "  qcirc4 = QuantumCircuit(5,2)\n",
        "  qcirc4.initialize('00000', qcirc4.qubits)\n",
        "  qcirc5 = QuantumCircuit(5,2)\n",
        "  qcirc5.initialize('00000', qcirc5.qubits)\n",
        "  qcirc6 = QuantumCircuit(5,2)\n",
        "  qcirc6.initialize('00000', qcirc6.qubits)\n",
        "\n",
        "  qcirc1.x([0])\n",
        "  qcirc2.x([1])\n",
        "  qcirc3.x([2])\n",
        "  qcirc4.x([0])\n",
        "  qcirc4.x([1])\n",
        "  qcirc5.x([1])\n",
        "  qcirc5.x([2])\n",
        "  qcirc6.x([0])\n",
        "  qcirc6.x([2])\n",
        "\n",
        "  qcirc1.barrier()\n",
        "  qcirc2.barrier()\n",
        "  qcirc3.barrier()\n",
        "  qcirc4.barrier()\n",
        "  qcirc5.barrier()\n",
        "  qcirc6.barrier()\n",
        "\n",
        "  wrong_state = set()\n",
        "  simulator = Aer.get_backend('qasm_simulator')\n",
        "  result1 = execute(qcirc1, backend=simulator, shots=1).result()\n",
        "  result_obj1 = result1.get_counts(qcirc1)\n",
        "  key1 = list(result_obj1.keys())\n",
        "  if(key1[:2] != key1[2:]):\n",
        "    wrong_state.add('100')\n",
        "\n",
        "  result2 = execute(qcirc2, backend=simulator, shots=1).result()\n",
        "  result_obj2 = result2.get_counts(qcirc2)\n",
        "  key2 = list(result_obj2.keys())\n",
        "  if(key2[:2] != key2[2:]):\n",
        "    wrong_state.add('010')\n",
        "\n",
        "  result3 = execute(qcirc3, backend=simulator, shots=1).result()\n",
        "  result_obj3 = result3.get_counts(qcirc3)\n",
        "  key3 = list(result_obj3.keys())\n",
        "  if(key3[:2] != key3[2:]):\n",
        "    wrong_state.add('001')\n",
        "\n",
        "  result4 = execute(qcirc4, backend=simulator, shots=1).result()\n",
        "  result_obj4 = result4.get_counts(qcirc4)\n",
        "  key4 = list(result_obj4.keys())\n",
        "  if(key4[:2] != key4[2:]):\n",
        "    wrong_state.add('110')\n",
        "\n",
        "  result5 = execute(qcirc5, backend=simulator, shots=1).result()\n",
        "  result_obj5 = result5.get_counts(qcirc5)\n",
        "  key5 = list(result_obj5.keys())\n",
        "  if(key5[:2] != key5[2:]):\n",
        "    wrong_state.add('011')\n",
        "\n",
        "  result6 = execute(qcirc6, backend=simulator, shots=1).result()\n",
        "  result_obj6 = result6.get_counts(qcirc6)\n",
        "  key6 = list(result_obj6.keys())\n",
        "  if(key6[:2] != key6[2:]):\n",
        "    wrong_state.add('101')\n",
        "\n",
        "  return wrong_state"
      ],
      "metadata": {
        "id": "8Ud1pjmlbhqi"
      },
      "execution_count": null,
      "outputs": []
    },
    {
      "cell_type": "code",
      "source": [
        "mismatch_list = []\n",
        "for key in keys:\n",
        "  if(key[:2] != key[2:]):\n",
        "    mismatch_list.append(key)\n",
        "\n",
        "print(mismatch_list)\n",
        "marked_state = set()\n",
        "\n",
        "for mismatch in mismatch_list:\n",
        "  if(mismatch[:2] == \"00\"):\n",
        "    marked_state.add('000')\n",
        "  if(mismatch[:2] == \"11\"):\n",
        "    marked_state.add('111')\n",
        "  if(mismatch[:2] == \"01\" or mismatch[:2] == \"10\"):\n",
        "    marked_state_temp = find_marked_state()\n",
        "    marked_state.update(marked_state_temp)\n",
        "\n",
        "print(marked_state)\n",
        "wrong_states = []\n",
        "wrong_states = list(marked_state)\n",
        "print(wrong_states)"
      ],
      "metadata": {
        "id": "1ZF7-muwbg7X",
        "colab": {
          "base_uri": "https://localhost:8080/"
        },
        "outputId": "ed392ff7-cfdf-460d-8b85-e9469d70f074"
      },
      "execution_count": null,
      "outputs": [
        {
          "output_type": "stream",
          "name": "stdout",
          "text": [
            "['1110']\n",
            "{'111'}\n",
            "['111']\n"
          ]
        }
      ]
    },
    {
      "cell_type": "code",
      "source": [
        "oracle = QuantumCircuit(3)\n",
        "\n",
        "for state in wrong_states:\n",
        "  if(state == '000'):\n",
        "    oracle.x([0])\n",
        "    oracle.x([1])\n",
        "    oracle.x([2])\n",
        "    oracle.h([2])\n",
        "    oracle.ccx(0,1,2)\n",
        "    oracle.h([2])\n",
        "    oracle.x([0])\n",
        "    oracle.x([1])\n",
        "    oracle.x([2])\n",
        "  if(state == '111'):\n",
        "    oracle.h([2])\n",
        "    oracle.ccx(0,1,2)\n",
        "    oracle.h([2])"
      ],
      "metadata": {
        "id": "RwU66r17biKI"
      },
      "execution_count": null,
      "outputs": []
    },
    {
      "cell_type": "markdown",
      "source": [
        "### **Grover block**"
      ],
      "metadata": {
        "id": "JSvEU7VffCzI"
      }
    },
    {
      "cell_type": "code",
      "source": [
        "problem = AmplificationProblem(oracle, is_good_state=wrong_states)\n",
        "grover = Grover(sampler=Sampler())\n",
        "result = grover.amplify(problem)\n",
        "\n",
        "if result is not None:\n",
        "    display(plot_histogram(result.circuit_results[0]))"
      ],
      "metadata": {
        "colab": {
          "base_uri": "https://localhost:8080/",
          "height": 473
        },
        "id": "TxEmO0AifBvP",
        "outputId": "bffd85fb-85f8-4459-a098-d561dc7b5d6f"
      },
      "execution_count": null,
      "outputs": [
        {
          "output_type": "display_data",
          "data": {
            "text/plain": [
              "<Figure size 700x500 with 1 Axes>"
            ],
            "image/png": "[encoded data removed]"
          },
          "metadata": {}
        }
      ]
    },
    {
      "cell_type": "markdown",
      "source": [
        "### **Rough work**"
      ],
      "metadata": {
        "id": "aGdtU96oWj6N"
      }
    },
    {
      "cell_type": "code",
      "source": [
        "def oracle(qc):\n",
        "  qc.cx(0,5)\n",
        "  qc.cx(1,5)\n",
        "  qc.cx(2,5)\n",
        "  qc.ccx(0,1,6)\n",
        "  qc.ccx(0,2,6)\n",
        "  qc.ccx(1,2,6)\n",
        "  qc.measure([5,6], [2,3])\n",
        "  return qc"
      ],
      "metadata": {
        "id": "x8RDhwjMeQC9"
      },
      "execution_count": null,
      "outputs": []
    },
    {
      "cell_type": "code",
      "source": [
        "def grover_circuit(qc):\n",
        "  qc = oracle(qc)"
      ],
      "metadata": {
        "id": "j5sQWnZReRzW"
      },
      "execution_count": null,
      "outputs": []
    },
    {
      "cell_type": "code",
      "source": [
        "circuit = QuantumCircuit(7,4)\n",
        "circuit = initialize_circuit(circuit)\n",
        "qcirc = binary_addition_circuit_for_3_qubits(circuit)\n",
        "qcirc = introduce_error_for_3_qubit_circuit(qcirc)\n",
        "qcirc.measure([3,4], [0,1])\n",
        "qcirc.barrier()\n",
        "\n",
        "test_circuit = QuantumCircuit(5,2)\n",
        "test_circuit = initialize_circuit(test_circuit)\n",
        "sut_circuit = binary_addition_circuit_for_3_qubits(test_circuit)\n",
        "sut_circuit = introduce_error_for_3_qubit_circuit(sut_circuit)\n",
        "\n",
        "sut_circuit.barrier()\n",
        "full_circuit = oracle(sut_circuit)"
      ],
      "metadata": {
        "colab": {
          "base_uri": "https://localhost:8080/",
          "height": 245
        },
        "id": "9NZz4L0xPc04",
        "outputId": "43a2874a-0f4b-4f2b-adce-0b4b8e78cc71"
      },
      "execution_count": null,
      "outputs": [
        {
          "output_type": "error",
          "ename": "AttributeError",
          "evalue": "ignored",
          "traceback": [
            "\u001b[0;31m---------------------------------------------------------------------------\u001b[0m",
            "\u001b[0;31mAttributeError\u001b[0m                            Traceback (most recent call last)",
            "\u001b[0;32m<ipython-input-13-7fa1867ceb90>\u001b[0m in \u001b[0;36m<cell line: 5>\u001b[0;34m()\u001b[0m\n\u001b[1;32m      3\u001b[0m \u001b[0mqcirc\u001b[0m \u001b[0;34m=\u001b[0m \u001b[0mbinary_addition_circuit_for_3_qubits\u001b[0m\u001b[0;34m(\u001b[0m\u001b[0mcircuit\u001b[0m\u001b[0;34m)\u001b[0m\u001b[0;34m\u001b[0m\u001b[0;34m\u001b[0m\u001b[0m\n\u001b[1;32m      4\u001b[0m \u001b[0mqcirc\u001b[0m \u001b[0;34m=\u001b[0m \u001b[0mintroduce_error_for_3_qubit_circuit\u001b[0m\u001b[0;34m(\u001b[0m\u001b[0mqcirc\u001b[0m\u001b[0;34m)\u001b[0m\u001b[0;34m\u001b[0m\u001b[0;34m\u001b[0m\u001b[0m\n\u001b[0;32m----> 5\u001b[0;31m \u001b[0mqcirc\u001b[0m\u001b[0;34m.\u001b[0m\u001b[0mmeasure\u001b[0m\u001b[0;34m(\u001b[0m\u001b[0;34m[\u001b[0m\u001b[0;36m3\u001b[0m\u001b[0;34m,\u001b[0m\u001b[0;36m4\u001b[0m\u001b[0;34m]\u001b[0m\u001b[0;34m,\u001b[0m \u001b[0;34m[\u001b[0m\u001b[0;36m0\u001b[0m\u001b[0;34m,\u001b[0m\u001b[0;36m1\u001b[0m\u001b[0;34m]\u001b[0m\u001b[0;34m)\u001b[0m\u001b[0;34m\u001b[0m\u001b[0;34m\u001b[0m\u001b[0m\n\u001b[0m\u001b[1;32m      6\u001b[0m \u001b[0mqcirc\u001b[0m\u001b[0;34m.\u001b[0m\u001b[0mbarrier\u001b[0m\u001b[0;34m(\u001b[0m\u001b[0;34m)\u001b[0m\u001b[0;34m\u001b[0m\u001b[0;34m\u001b[0m\u001b[0m\n\u001b[1;32m      7\u001b[0m \u001b[0;34m\u001b[0m\u001b[0m\n",
            "\u001b[0;31mAttributeError\u001b[0m: 'InstructionSet' object has no attribute 'measure'"
          ]
        }
      ]
    },
    {
      "cell_type": "code",
      "source": [
        "plot_circuit(full_circuit)"
      ],
      "metadata": {
        "id": "-GQnhQ3ReSes"
      },
      "execution_count": null,
      "outputs": []
    },
    {
      "cell_type": "code",
      "source": [],
      "metadata": {
        "id": "gIm5DLeCZNAp"
      },
      "execution_count": null,
      "outputs": []
    }
  ]
}